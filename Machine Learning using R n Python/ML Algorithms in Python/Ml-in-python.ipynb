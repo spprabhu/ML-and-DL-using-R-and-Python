{
 "cells": [
  {
   "cell_type": "code",
   "execution_count": 2,
   "metadata": {
    "collapsed": true
   },
   "outputs": [],
   "source": [
    "#from xlrd import open_workbook\n",
    "#wb=open_workbook('train(kag)cat(unsort)xl.xlsx')"
   ]
  },
  {
   "cell_type": "code",
   "execution_count": 3,
   "metadata": {},
   "outputs": [
    {
     "name": "stdout",
     "output_type": "stream",
     "text": [
      "<xlrd.book.Book object at 0x000001BA25489390>\n"
     ]
    }
   ],
   "source": [
    "#print(wb)\n"
   ]
  },
  {
   "cell_type": "code",
   "execution_count": 4,
   "metadata": {
    "collapsed": true
   },
   "outputs": [],
   "source": [
    "import pandas as pd"
   ]
  },
  {
   "cell_type": "code",
   "execution_count": 5,
   "metadata": {
    "collapsed": true
   },
   "outputs": [],
   "source": [
    "wd=pd.read_excel('train(kag)cat(unsort)xl.xlsx')"
   ]
  },
  {
   "cell_type": "code",
   "execution_count": 6,
   "metadata": {},
   "outputs": [
    {
     "name": "stdout",
     "output_type": "stream",
     "text": [
      "<class 'pandas.core.frame.DataFrame'>\n",
      "RangeIndex: 1048575 entries, 0 to 1048574\n",
      "Data columns (total 10 columns):\n",
      "train_id             1048575 non-null int64\n",
      "name                 1048526 non-null object\n",
      "item_condition_id    1048575 non-null int64\n",
      "category_name        1044072 non-null object\n",
      "Unnamed: 4           1044072 non-null object\n",
      "Unnamed: 5           1044072 non-null object\n",
      "brand_name           601240 non-null object\n",
      "price                1048575 non-null float64\n",
      "shipping             1048575 non-null int64\n",
      "item_description     1047253 non-null object\n",
      "dtypes: float64(1), int64(3), object(6)\n",
      "memory usage: 80.0+ MB\n",
      "<class 'pandas.core.frame.DataFrame'>\n"
     ]
    },
    {
     "data": {
      "text/plain": [
       "(1048575, 10)"
      ]
     },
     "execution_count": 6,
     "metadata": {},
     "output_type": "execute_result"
    }
   ],
   "source": [
    "wd.head()\n",
    "wd.tail()\n",
    "wd.info()\n",
    "wd.describe\n",
    "\n",
    "print(type(wd))\n",
    "wd.shape"
   ]
  },
  {
   "cell_type": "code",
   "execution_count": 7,
   "metadata": {},
   "outputs": [
    {
     "name": "stdout",
     "output_type": "stream",
     "text": [
      "         train_id  item_condition_id           category_name  \\\n",
      "0               0                  3                     Men   \n",
      "1               1                  3             Electronics   \n",
      "2               2                  1                   Women   \n",
      "3               3                  1                    Home   \n",
      "4               4                  1                   Women   \n",
      "5               5                  3                   Women   \n",
      "6               6                  3                   Women   \n",
      "7               7                  3       Sports & Outdoors   \n",
      "8               8                  3       Sports & Outdoors   \n",
      "9               9                  3  Vintage & Collectibles   \n",
      "10             10                  2                  Beauty   \n",
      "11             11                  1                  Beauty   \n",
      "12             12                  2                   Women   \n",
      "13             13                  1                   Other   \n",
      "14             14                  3                   Women   \n",
      "15             15                  1                  Beauty   \n",
      "16             16                  1                  Beauty   \n",
      "17             17                  1                    Kids   \n",
      "18             18                  1                  Beauty   \n",
      "19             19                  2                   Women   \n",
      "20             20                  3                   Women   \n",
      "21             21                  1                   Women   \n",
      "22             22                  3             Electronics   \n",
      "23             23                  1             Electronics   \n",
      "24             24                  2                   Women   \n",
      "25             25                  3                     Men   \n",
      "26             26                  1             Electronics   \n",
      "27             27                  3                   Women   \n",
      "28             28                  2                   Women   \n",
      "29             29                  3                   Women   \n",
      "...           ...                ...                     ...   \n",
      "1048545   1048545                  1                Handmade   \n",
      "1048546   1048546                  3                     Men   \n",
      "1048547   1048547                  2                   Women   \n",
      "1048548   1048548                  2                  Beauty   \n",
      "1048549   1048549                  2                   Women   \n",
      "1048550   1048550                  3                   Women   \n",
      "1048551   1048551                  1                  Beauty   \n",
      "1048552   1048552                  3                   Women   \n",
      "1048553   1048553                  2             Electronics   \n",
      "1048554   1048554                  2                   Women   \n",
      "1048555   1048555                  2                    Kids   \n",
      "1048556   1048556                  1                   Women   \n",
      "1048557   1048557                  1                    Home   \n",
      "1048558   1048558                  1                   Women   \n",
      "1048559   1048559                  2                   Women   \n",
      "1048560   1048560                  1                     Men   \n",
      "1048561   1048561                  1                     Men   \n",
      "1048562   1048562                  3                    Kids   \n",
      "1048563   1048563                  1                  Beauty   \n",
      "1048564   1048564                  1                     Men   \n",
      "1048565   1048565                  3                   Women   \n",
      "1048566   1048566                  1                  Beauty   \n",
      "1048567   1048567                  1                   Women   \n",
      "1048568   1048568                  3                   Women   \n",
      "1048569   1048569                  1                  Beauty   \n",
      "1048570   1048570                  3                    Kids   \n",
      "1048571   1048571                  1                   Other   \n",
      "1048572   1048572                  1                   Women   \n",
      "1048573   1048573                  2                     Men   \n",
      "1048574   1048574                  3                    Kids   \n",
      "\n",
      "                        Unnamed: 4                 Unnamed: 5  \\\n",
      "0                             Tops                   T-shirts   \n",
      "1              Computers & Tablets         Components & Parts   \n",
      "2                   Tops & Blouses                     Blouse   \n",
      "3                      Home DÃ©cor        Home DÃ©cor Accents   \n",
      "4                          Jewelry                  Necklaces   \n",
      "5                            Other                      Other   \n",
      "6                         Swimwear                  Two-Piece   \n",
      "7                          Apparel                      Girls   \n",
      "8                          Apparel                      Girls   \n",
      "9                     Collectibles                       Doll   \n",
      "10                          Makeup                       Face   \n",
      "11                       Fragrance                      Women   \n",
      "12                         Dresses           Above Knee, Mini   \n",
      "13                 Office supplies            School Supplies   \n",
      "14                           Shoes                      Boots   \n",
      "15                          Makeup                Makeup Sets   \n",
      "16                          Makeup                       Eyes   \n",
      "17                            Gear       Backpacks & Carriers   \n",
      "18                          Makeup            Makeup Palettes   \n",
      "19                  Tops & Blouses                     Blouse   \n",
      "20                  Tops & Blouses                 Tank, Cami   \n",
      "21                Athletic Apparel                Sports Bras   \n",
      "22       Cell Phones & Accessories  Cell Phones & Smartphones   \n",
      "23       Cell Phones & Accessories         Chargers & Cradles   \n",
      "24                  Tops & Blouses                   T-Shirts   \n",
      "25                           Shoes                   Athletic   \n",
      "26       Cell Phones & Accessories      Cases, Covers & Skins   \n",
      "27                Athletic Apparel    Pants, Tights, Leggings   \n",
      "28                        Swimwear                  One-Piece   \n",
      "29                           Jeans                   Boot Cut   \n",
      "...                            ...                        ...   \n",
      "1048545                      Glass                    Bottles   \n",
      "1048546                       Tops                   T-shirts   \n",
      "1048547             Tops & Blouses                   T-Shirts   \n",
      "1048548        Tools & Accessories     Makeup Brushes & Tools   \n",
      "1048549           Athletic Apparel    Pants, Tights, Leggings   \n",
      "1048550                  Maternity                      Pants   \n",
      "1048551                Bath & Body                  Cleansers   \n",
      "1048552                      Pants                Dress Pants   \n",
      "1048553     Car Audio, Video & GPS   Car Stereos & Components   \n",
      "1048554                    Jewelry                      Rings   \n",
      "1048555                       Toys   Action Figures & Statues   \n",
      "1048556        Women's Accessories                      Other   \n",
      "1048557           Kitchen & Dining      Dining & Entertaining   \n",
      "1048558        Women's Accessories                      Other   \n",
      "1048559                    Jewelry                  Necklaces   \n",
      "1048560           Athletic Apparel                      Socks   \n",
      "1048561                       Tops                   T-shirts   \n",
      "1048562                 Girls (4+)            Tops & T-Shirts   \n",
      "1048563                  Fragrance                      Women   \n",
      "1048564           Athletic Apparel                    Jerseys   \n",
      "1048565                      Shoes                      Flats   \n",
      "1048566                     Makeup                       Face   \n",
      "1048567           Women's Handbags              Cosmetic Bags   \n",
      "1048568           Athletic Apparel                     Shorts   \n",
      "1048569                  Fragrance                        Men   \n",
      "1048570                      Other                      Other   \n",
      "1048571       Daily & Travel items                Health Care   \n",
      "1048572           Athletic Apparel    Pants, Tights, Leggings   \n",
      "1048573                      Shoes           Fashion Sneakers   \n",
      "1048574                       Toys        Dolls & Accessories   \n",
      "\n",
      "                   brand_name  price  shipping  \n",
      "0                         NaN   10.0         1  \n",
      "1                       Razer   52.0         0  \n",
      "2                      Target   10.0         1  \n",
      "3                         NaN   35.0         1  \n",
      "4                         NaN   44.0         0  \n",
      "5                         NaN   59.0         0  \n",
      "6             Acacia Swimwear   64.0         0  \n",
      "7                       Soffe    6.0         1  \n",
      "8                        Nike   19.0         0  \n",
      "9                         NaN    8.0         0  \n",
      "10                   Smashbox    8.0         1  \n",
      "11          Victoria's Secret   34.0         0  \n",
      "12                        rue   16.0         0  \n",
      "13                 Scholastic    4.0         1  \n",
      "14              UGG Australia   43.0         0  \n",
      "15                      Tarte   11.0         1  \n",
      "16                 Wet n Wild    6.0         1  \n",
      "17                        NaN   29.0         1  \n",
      "18                  Too Faced   25.0         1  \n",
      "19              Anthropologie   27.0         0  \n",
      "20                     Torrid   13.0         1  \n",
      "21          Victoria's Secret   20.0         0  \n",
      "22                    Samsung  386.0         0  \n",
      "23                        NaN    8.0         1  \n",
      "24                 FOREVER 21   10.0         0  \n",
      "25                 Air Jordan   66.0         0  \n",
      "26                      Apple   13.0         1  \n",
      "27                    LuLaRoe   24.0         0  \n",
      "28                 FOREVER 21    5.0         1  \n",
      "29                  Hollister   16.0         1  \n",
      "...                       ...    ...       ...  \n",
      "1048545                   NaN   12.0         0  \n",
      "1048546                  Nike   10.0         0  \n",
      "1048547                  PINK   64.0         0  \n",
      "1048548                   NaN  100.0         1  \n",
      "1048549                  Nike   19.0         0  \n",
      "1048550  Motherhood Maternity   10.0         0  \n",
      "1048551     Bath & Body Works   12.0         1  \n",
      "1048552           The Limited   16.0         0  \n",
      "1048553                   NaN  120.0         1  \n",
      "1048554               PANDORA   24.0         0  \n",
      "1048555                 Funko   19.0         0  \n",
      "1048556                   NaN   20.0         0  \n",
      "1048557              Rae Dunn   24.0         0  \n",
      "1048558                 SPANX   30.0         1  \n",
      "1048559          Kendra Scott   94.0         0  \n",
      "1048560                  Nike   18.0         0  \n",
      "1048561              Nintendo   18.0         1  \n",
      "1048562  The Children's Place   10.0         0  \n",
      "1048563                   NaN   25.0         1  \n",
      "1048564                  Nike   45.0         0  \n",
      "1048565            Tory Burch   39.0         0  \n",
      "1048566                   NaN    7.0         0  \n",
      "1048567          Vera Bradley   22.0         0  \n",
      "1048568                  Nike   19.0         0  \n",
      "1048569                   NaN    7.0         0  \n",
      "1048570                   NaN   10.0         1  \n",
      "1048571                   NaN   20.0         1  \n",
      "1048572                   NaN   66.0         0  \n",
      "1048573                  Nike  111.0         0  \n",
      "1048574                   NaN   30.0         1  \n",
      "\n",
      "[1048575 rows x 8 columns]\n"
     ]
    },
    {
     "data": {
      "text/plain": [
       "train_id                  0\n",
       "item_condition_id         0\n",
       "category_name          4503\n",
       "Unnamed: 4             4503\n",
       "Unnamed: 5             4503\n",
       "brand_name           447335\n",
       "price                     0\n",
       "shipping                  0\n",
       "dtype: int64"
      ]
     },
     "execution_count": 7,
     "metadata": {},
     "output_type": "execute_result"
    }
   ],
   "source": [
    "wd1=wd.drop(['name','item_description'],axis=1)\n",
    "print(wd1)\n",
    "wd1.isnull().sum()"
   ]
  },
  {
   "cell_type": "code",
   "execution_count": 8,
   "metadata": {
    "collapsed": true
   },
   "outputs": [],
   "source": [
    "type(wd1)\n",
    "wd1=wd1.drop(['brand_name'],axis=1)"
   ]
  },
  {
   "cell_type": "code",
   "execution_count": 9,
   "metadata": {
    "scrolled": true
   },
   "outputs": [
    {
     "data": {
      "text/plain": [
       "train_id                0\n",
       "item_condition_id       0\n",
       "category_name        4503\n",
       "Unnamed: 4           4503\n",
       "Unnamed: 5           4503\n",
       "price                   0\n",
       "shipping                0\n",
       "dtype: int64"
      ]
     },
     "execution_count": 9,
     "metadata": {},
     "output_type": "execute_result"
    }
   ],
   "source": [
    "import numpy as np\n",
    "wd1.isnull().sum()"
   ]
  },
  {
   "cell_type": "code",
   "execution_count": 10,
   "metadata": {
    "collapsed": true
   },
   "outputs": [],
   "source": [
    "wd1['category_name'].fillna('None',inplace=True)\n",
    "wd1['Unnamed: 4'].fillna('other',inplace= True)\n",
    "wd1['Unnamed: 5'].fillna('other',inplace=True)"
   ]
  },
  {
   "cell_type": "code",
   "execution_count": 11,
   "metadata": {},
   "outputs": [
    {
     "data": {
      "text/plain": [
       "pandas.core.frame.DataFrame"
      ]
     },
     "execution_count": 11,
     "metadata": {},
     "output_type": "execute_result"
    }
   ],
   "source": [
    "wd1.head()\n",
    "wd1.isnull().sum()\n",
    "type(wd1)"
   ]
  },
  {
   "cell_type": "code",
   "execution_count": 13,
   "metadata": {},
   "outputs": [
    {
     "data": {
      "text/plain": [
       "pandas.core.frame.DataFrame"
      ]
     },
     "execution_count": 13,
     "metadata": {},
     "output_type": "execute_result"
    }
   ],
   "source": [
    "wd_samp=wd1.sample(1000000)\n",
    "#print(wd_samp)\n",
    "x=wd1.drop(['price'],axis=1)\n",
    "y=pd.DataFrame()\n",
    "y=wd1['price']\n",
    "type(y)\n",
    "type(x)\n",
    "#x=wd['train_id','item_condition_id','category_name','Unnamed: 4','Unnamed: 5','shipping']\n",
    "#x.head()"
   ]
  },
  {
   "cell_type": "code",
   "execution_count": 14,
   "metadata": {},
   "outputs": [
    {
     "data": {
      "text/plain": [
       "pandas.core.frame.DataFrame"
      ]
     },
     "execution_count": 14,
     "metadata": {},
     "output_type": "execute_result"
    }
   ],
   "source": [
    "type(wd_samp)\n",
    "#wd_samp.info\n",
    "wd_samp.dtypes\n",
    "#wd_samp.shape\n",
    "wd_samp = wd_samp.rename(columns = {'Unnamed: 4':'sub_cat'})\n",
    "wd_samp= wd_samp.rename(columns = {'Unnamed: 5':'sub_sub_cat'})\n",
    "wd_samp.category_name=wd_samp.category_name.astype('category')\n",
    "wd_samp.sub_cat=wd_samp.sub_cat.astype('category')\n",
    "wd_samp.sub_sub_cat=wd_samp.sub_sub_cat.astype('category')\n",
    "wd_samp.dtypes\n",
    "type(wd_samp)       "
   ]
  },
  {
   "cell_type": "code",
   "execution_count": 15,
   "metadata": {},
   "outputs": [
    {
     "name": "stdout",
     "output_type": "stream",
     "text": [
      "546109                      Women\n",
      "568451                      Women\n",
      "558560                      Women\n",
      "78593                       Other\n",
      "294155                        Men\n",
      "779676                        Men\n",
      "168243                Electronics\n",
      "682242                      Women\n",
      "684946                      Other\n",
      "595865                      Women\n",
      "612500                      Women\n",
      "521209                   Handmade\n",
      "704489                      Women\n",
      "932591                      Women\n",
      "863308                     Beauty\n",
      "895191                      Women\n",
      "793087          Sports & Outdoors\n",
      "689203                      Women\n",
      "667780                        Men\n",
      "621019     Vintage & Collectibles\n",
      "250850                      Women\n",
      "623542                      Women\n",
      "54218                       Women\n",
      "994008                      Women\n",
      "887112                      Women\n",
      "227362                     Beauty\n",
      "81415                         Men\n",
      "87651                        Home\n",
      "682339                     Beauty\n",
      "655620                       Kids\n",
      "                    ...          \n",
      "183498                      Women\n",
      "693756                      Women\n",
      "244033                      Women\n",
      "349829                      Women\n",
      "393595                      Women\n",
      "166589                      Other\n",
      "732517                      Women\n",
      "1039523                      Kids\n",
      "147040                       Kids\n",
      "211327     Vintage & Collectibles\n",
      "367314                      Women\n",
      "1028291                       Men\n",
      "252470                      Women\n",
      "510832                      Women\n",
      "133395                       Kids\n",
      "454173                     Beauty\n",
      "265269                     Beauty\n",
      "385988                Electronics\n",
      "1035960                     Women\n",
      "809670                     Beauty\n",
      "416853                       Kids\n",
      "611837                     Beauty\n",
      "955354                      Women\n",
      "4727       Vintage & Collectibles\n",
      "355059                Electronics\n",
      "964070                     Beauty\n",
      "165493                       Home\n",
      "1019794                      Home\n",
      "579933                   Handmade\n",
      "542062                      Women\n",
      "Name: category_name, Length: 1000000, dtype: category\n",
      "Categories (11, object): [Beauty, Electronics, Handmade, Home, ..., Other, Sports & Outdoors, Vintage & Collectibles, Women]\n"
     ]
    }
   ],
   "source": [
    "print(wd_samp.category_name)\n",
    "wd_samp.category_name = wd_samp.category_name.cat.codes\n",
    "wd_samp.sub_cat=wd_samp.sub_cat.cat.codes\n",
    "wd_samp.sub_sub_cat=wd_samp.sub_sub_cat.cat.codes"
   ]
  },
  {
   "cell_type": "code",
   "execution_count": 16,
   "metadata": {},
   "outputs": [
    {
     "data": {
      "text/plain": [
       "pandas.core.series.Series"
      ]
     },
     "execution_count": 16,
     "metadata": {},
     "output_type": "execute_result"
    }
   ],
   "source": [
    "wd_samp.dtypes\n",
    "x=wd_samp.drop(['price'],axis=1)\n",
    "y=pd.DataFrame()\n",
    "y=wd_samp['price']\n",
    "type(y)\n",
    "type(y)"
   ]
  },
  {
   "cell_type": "code",
   "execution_count": 17,
   "metadata": {},
   "outputs": [
    {
     "data": {
      "text/plain": [
       "(700000, 6)"
      ]
     },
     "execution_count": 17,
     "metadata": {},
     "output_type": "execute_result"
    }
   ],
   "source": [
    "from sklearn.model_selection import train_test_split\n",
    "x_train,x_test,y_train,y_test=train_test_split(x,y,test_size=.3)\n",
    "x_train.shape\n",
    "#print x_train.shape\n",
    "#print y_train.shape\n",
    "#print x_test.shape\n",
    "#print y_test.shape\n"
   ]
  },
  {
   "cell_type": "code",
   "execution_count": 30,
   "metadata": {
    "collapsed": true
   },
   "outputs": [],
   "source": [
    "#np.random.seed(123)\n",
    "from sklearn import tree\n",
    "dt=tree.DecisionTreeRegressor(max_depth=6,min_samples_split=500,min_impurity_decrease=.2)\n",
    "#dt = dt(random_state=0, criterion=\"rmsle\")\n",
    "dt_fit = dt.fit(x_train, y_train)"
   ]
  },
  {
   "cell_type": "code",
   "execution_count": 31,
   "metadata": {},
   "outputs": [
    {
     "data": {
      "text/plain": [
       "0.087077553189340406"
      ]
     },
     "execution_count": 31,
     "metadata": {},
     "output_type": "execute_result"
    }
   ],
   "source": [
    "dt_fit.score(x_train,y_train)\n"
   ]
  },
  {
   "cell_type": "code",
   "execution_count": 32,
   "metadata": {
    "collapsed": true
   },
   "outputs": [],
   "source": [
    "preds=dt_fit.predict(x_test)"
   ]
  },
  {
   "cell_type": "code",
   "execution_count": 33,
   "metadata": {},
   "outputs": [
    {
     "name": "stdout",
     "output_type": "stream",
     "text": [
      "0.570052492504\n",
      "0.0832944446104\n"
     ]
    }
   ],
   "source": [
    "from sklearn.metrics import mean_squared_log_error\n",
    "print(mean_squared_log_error(y_test, dt_fit.predict(x_test)))\n",
    "print(dt_fit.score(x_test, y_test))"
   ]
  },
  {
   "cell_type": "code",
   "execution_count": 51,
   "metadata": {},
   "outputs": [
    {
     "data": {
      "text/plain": [
       "array([ 0.        ,  0.06834349,  0.23154784,  0.40679847,  0.20125865,\n",
       "        0.09205156])"
      ]
     },
     "execution_count": 51,
     "metadata": {},
     "output_type": "execute_result"
    }
   ],
   "source": [
    "dt_fit.feature_importances_"
   ]
  },
  {
   "cell_type": "code",
   "execution_count": 38,
   "metadata": {
    "collapsed": true
   },
   "outputs": [],
   "source": [
    "##########Decision tree with ada boost ######\n",
    "from sklearn.ensemble import AdaBoostRegressor\n",
    "\n"
   ]
  },
  {
   "cell_type": "code",
   "execution_count": 45,
   "metadata": {
    "collapsed": true
   },
   "outputs": [],
   "source": [
    "dt_2 = AdaBoostRegressor(base_estimator=None,\n",
    "                          n_estimators=300, random_state=123,loss='linear',learning_rate=.3)"
   ]
  },
  {
   "cell_type": "code",
   "execution_count": 46,
   "metadata": {
    "collapsed": true
   },
   "outputs": [],
   "source": [
    "dt_fit_2 = dt.fit(x_train, y_train)"
   ]
  },
  {
   "cell_type": "code",
   "execution_count": 47,
   "metadata": {},
   "outputs": [
    {
     "data": {
      "text/plain": [
       "0.087077553189340406"
      ]
     },
     "execution_count": 47,
     "metadata": {},
     "output_type": "execute_result"
    }
   ],
   "source": [
    "dt_fit_2.score(x_train,y_train)"
   ]
  },
  {
   "cell_type": "code",
   "execution_count": 49,
   "metadata": {
    "collapsed": true
   },
   "outputs": [],
   "source": [
    "preds_2=dt_fit_2.predict(x_test)"
   ]
  },
  {
   "cell_type": "code",
   "execution_count": 50,
   "metadata": {},
   "outputs": [
    {
     "name": "stdout",
     "output_type": "stream",
     "text": [
      "0.570052492504\n",
      "0.0832944446104\n"
     ]
    }
   ],
   "source": [
    "from sklearn.metrics import mean_squared_log_error\n",
    "print(mean_squared_log_error(y_test, dt_fit_2.predict(x_test)))\n",
    "print(dt_fit.score(x_test, y_test))"
   ]
  },
  {
   "cell_type": "code",
   "execution_count": 52,
   "metadata": {},
   "outputs": [
    {
     "data": {
      "text/plain": [
       "array([ 0.        ,  0.06834349,  0.23154784,  0.40679847,  0.20125865,\n",
       "        0.09205156])"
      ]
     },
     "execution_count": 52,
     "metadata": {},
     "output_type": "execute_result"
    }
   ],
   "source": [
    "dt_fit_2.feature_importances_"
   ]
  },
  {
   "cell_type": "code",
   "execution_count": 35,
   "metadata": {
    "scrolled": true
   },
   "outputs": [
    {
     "data": {
      "text/plain": [
       "<sklearn.tree._tree.Tree at 0x1ba0b1533d8>"
      ]
     },
     "execution_count": 35,
     "metadata": {},
     "output_type": "execute_result"
    }
   ],
   "source": [
    "dt_fit.tree_"
   ]
  },
  {
   "cell_type": "code",
   "execution_count": 55,
   "metadata": {},
   "outputs": [
    {
     "data": {
      "text/plain": [
       "0.012190581950332069"
      ]
     },
     "execution_count": 55,
     "metadata": {},
     "output_type": "execute_result"
    }
   ],
   "source": [
    "########### linear Regression ##########\n",
    "from sklearn.linear_model import LinearRegression\n",
    "lm=LinearRegression(fit_intercept=True,normalize=False)\n",
    "lm.fit(x_train,y_train)\n",
    "lm.score(x_train,y_train)"
   ]
  },
  {
   "cell_type": "code",
   "execution_count": 56,
   "metadata": {
    "collapsed": true
   },
   "outputs": [],
   "source": [
    "pred_lm=lm.predict(x_test)"
   ]
  },
  {
   "cell_type": "code",
   "execution_count": 57,
   "metadata": {},
   "outputs": [
    {
     "name": "stdout",
     "output_type": "stream",
     "text": [
      "0.636806169329\n",
      "0.0118147536725\n"
     ]
    }
   ],
   "source": [
    "from sklearn.metrics import mean_squared_log_error\n",
    "print(mean_squared_log_error(y_test, lm.predict(x_test)))\n",
    "print(lm.score(x_test, y_test))"
   ]
  },
  {
   "cell_type": "code",
   "execution_count": 58,
   "metadata": {},
   "outputs": [
    {
     "name": "stdout",
     "output_type": "stream",
     "text": [
      "Coefficients: \n",
      " [  4.96351707e-08  -1.15562432e+00   4.74509046e-01   1.09149540e-03\n",
      "  -2.98863341e-03  -7.47391918e+00]\n"
     ]
    }
   ],
   "source": [
    "print('Coefficients: \\n', lm.coef_)"
   ]
  },
  {
   "cell_type": "code",
   "execution_count": 59,
   "metadata": {},
   "outputs": [
    {
     "data": {
      "text/plain": [
       "30.577869679595743"
      ]
     },
     "execution_count": 59,
     "metadata": {},
     "output_type": "execute_result"
    }
   ],
   "source": [
    "lm.intercept_"
   ]
  },
  {
   "cell_type": "code",
   "execution_count": 60,
   "metadata": {},
   "outputs": [
    {
     "data": {
      "text/plain": [
       "0.49357910460586685"
      ]
     },
     "execution_count": 60,
     "metadata": {},
     "output_type": "execute_result"
    }
   ],
   "source": [
    "###------randomforrest regressor-------###\n",
    "from sklearn.ensemble import RandomForestRegressor\n",
    "rf2 = RandomForestRegressor(n_jobs=-1, n_estimators=100,  random_state=42, min_samples_leaf=3)\n",
    "rf2.fit(x_train,y_train)\n",
    "rf2.score(x_train,y_train)"
   ]
  },
  {
   "cell_type": "code",
   "execution_count": 67,
   "metadata": {
    "collapsed": true
   },
   "outputs": [],
   "source": [
    "pred_rf2=lm.predict(x_test)"
   ]
  },
  {
   "cell_type": "code",
   "execution_count": 68,
   "metadata": {},
   "outputs": [
    {
     "name": "stdout",
     "output_type": "stream",
     "text": [
      "0.509953825688\n",
      "0.0916747884533\n"
     ]
    }
   ],
   "source": [
    "from sklearn.metrics import mean_squared_log_error\n",
    "print(mean_squared_log_error(y_test, rf2.predict(x_test)))\n",
    "print(rf2.score(x_test, y_test))"
   ]
  },
  {
   "cell_type": "code",
   "execution_count": 61,
   "metadata": {
    "collapsed": true
   },
   "outputs": [],
   "source": [
    "from pprint import pprint"
   ]
  },
  {
   "cell_type": "code",
   "execution_count": 62,
   "metadata": {},
   "outputs": [
    {
     "name": "stdout",
     "output_type": "stream",
     "text": [
      "Parameters currently in use:\n",
      "\n",
      "{'bootstrap': True,\n",
      " 'criterion': 'mse',\n",
      " 'max_depth': None,\n",
      " 'max_features': 'auto',\n",
      " 'max_leaf_nodes': None,\n",
      " 'min_impurity_decrease': 0.0,\n",
      " 'min_impurity_split': None,\n",
      " 'min_samples_leaf': 3,\n",
      " 'min_samples_split': 2,\n",
      " 'min_weight_fraction_leaf': 0.0,\n",
      " 'n_estimators': 100,\n",
      " 'n_jobs': -1,\n",
      " 'oob_score': False,\n",
      " 'random_state': 42,\n",
      " 'verbose': 0,\n",
      " 'warm_start': False}\n"
     ]
    }
   ],
   "source": [
    "# Look at parameters used by our current forest\n",
    "print('Parameters currently in use:\\n')\n",
    "pprint(rf2.get_params())"
   ]
  },
  {
   "cell_type": "code",
   "execution_count": 64,
   "metadata": {
    "collapsed": true
   },
   "outputs": [],
   "source": [
    "preds_rf = rf2.predict(x_test)\n",
    "preds_rf=pd.Series(preds_rf)\n"
   ]
  },
  {
   "cell_type": "code",
   "execution_count": 65,
   "metadata": {},
   "outputs": [
    {
     "data": {
      "text/plain": [
       "0.089927910761844365"
      ]
     },
     "execution_count": 65,
     "metadata": {},
     "output_type": "execute_result"
    }
   ],
   "source": [
    "from sklearn.ensemble import RandomForestRegressor\n",
    "rf3 = RandomForestRegressor(n_jobs=-1, n_estimators=100,  random_state=42, min_samples_leaf=100,max_depth=6)\n",
    "rf3.fit(x_train,y_train)\n",
    "rf3.score(x_train,y_train)"
   ]
  },
  {
   "cell_type": "code",
   "execution_count": 66,
   "metadata": {
    "collapsed": true
   },
   "outputs": [],
   "source": [
    "pred_rf3=lm.predict(x_test)"
   ]
  },
  {
   "cell_type": "code",
   "execution_count": 69,
   "metadata": {},
   "outputs": [
    {
     "name": "stdout",
     "output_type": "stream",
     "text": [
      "0.566683440355\n",
      "0.086320310481\n"
     ]
    }
   ],
   "source": [
    "from sklearn.metrics import mean_squared_log_error\n",
    "print(mean_squared_log_error(y_test, rf3.predict(x_test)))\n",
    "print(rf3.score(x_test, y_test))"
   ]
  },
  {
   "cell_type": "code",
   "execution_count": 70,
   "metadata": {
    "collapsed": true
   },
   "outputs": [],
   "source": [
    "######### extra tree regressor ########\n",
    "from sklearn.ensemble import ExtraTreesRegressor"
   ]
  },
  {
   "cell_type": "code",
   "execution_count": 82,
   "metadata": {},
   "outputs": [
    {
     "data": {
      "text/plain": [
       "0.85222105614034604"
      ]
     },
     "execution_count": 82,
     "metadata": {},
     "output_type": "execute_result"
    }
   ],
   "source": [
    "et=ExtraTreesRegressor(n_estimators = 100,oob_score=True,bootstrap =True,random_state=64,n_jobs=-1)\n",
    "et_fit=et.fit(x_train,y_train)\n",
    "et_fit.score(x_train,y_train)"
   ]
  },
  {
   "cell_type": "code",
   "execution_count": 83,
   "metadata": {
    "collapsed": true
   },
   "outputs": [],
   "source": [
    "pred_et=et_fit.predict(x_test)"
   ]
  },
  {
   "cell_type": "code",
   "execution_count": 84,
   "metadata": {},
   "outputs": [
    {
     "name": "stdout",
     "output_type": "stream",
     "text": [
      "0.558620995891\n",
      "-0.0547773286872\n"
     ]
    }
   ],
   "source": [
    "from sklearn.metrics import mean_squared_log_error\n",
    "print(mean_squared_log_error(y_test, et_fit.predict(x_test)))\n",
    "print(et_fit.score(x_test, y_test))"
   ]
  },
  {
   "cell_type": "code",
   "execution_count": null,
   "metadata": {
    "collapsed": true
   },
   "outputs": [],
   "source": []
  },
  {
   "cell_type": "code",
   "execution_count": 130,
   "metadata": {
    "collapsed": true
   },
   "outputs": [],
   "source": []
  },
  {
   "cell_type": "code",
   "execution_count": 23,
   "metadata": {
    "collapsed": true
   },
   "outputs": [],
   "source": [
    "########## gradient boosting regressor ##############\n",
    "from sklearn.ensemble import GradientBoostingRegressor\n",
    "from sklearn.metrics import mean_squared_log_error\n",
    "gbt=GradientBoostingRegressor()\n",
    "gbt_fit=GradientBoostingRegressor(n_estimators=1000, learning_rate=.01,max_depth=3,random_state=0,loss='ls').fit(x_train,y_train)\n",
    "\n",
    "#est = GradientBoostingRegressor(n_estimators=100, learning_rate=0.1,\n",
    "#...     max_depth=1, random_state=0, loss='ls').fit(X_train, y_train)"
   ]
  },
  {
   "cell_type": "code",
   "execution_count": 24,
   "metadata": {},
   "outputs": [
    {
     "data": {
      "text/plain": [
       "0.1376001647532954"
      ]
     },
     "execution_count": 24,
     "metadata": {},
     "output_type": "execute_result"
    }
   ],
   "source": [
    "gbt_fit.score(x_train,y_train)"
   ]
  },
  {
   "cell_type": "code",
   "execution_count": 25,
   "metadata": {
    "collapsed": true
   },
   "outputs": [],
   "source": [
    "preds_gbt=gbt_fit.predict(x_test)"
   ]
  },
  {
   "cell_type": "code",
   "execution_count": 26,
   "metadata": {
    "scrolled": true
   },
   "outputs": [
    {
     "name": "stdout",
     "output_type": "stream",
     "text": [
      "0.527753615653\n",
      "0.126907179812\n"
     ]
    }
   ],
   "source": [
    "from sklearn.metrics import mean_squared_log_error\n",
    "print(mean_squared_log_error(y_test, gbt_fit.predict(x_test)))\n",
    "print(gbt_fit.score(x_test, y_test))"
   ]
  },
  {
   "cell_type": "code",
   "execution_count": null,
   "metadata": {
    "collapsed": true
   },
   "outputs": [],
   "source": [
    "preds1=pd.Series(preds)\n",
    "submit = pd.concat([x_test['train_id'],preds1],axis=1)\n",
    "submit.columns = ['test_id','price']\n",
    "submit.to_csv(\"./rf_v4.csv\", index=True)"
   ]
  },
  {
   "cell_type": "code",
   "execution_count": null,
   "metadata": {
    "collapsed": true
   },
   "outputs": [],
   "source": [
    "######## xgb ########"
   ]
  },
  {
   "cell_type": "code",
   "execution_count": 74,
   "metadata": {},
   "outputs": [
    {
     "name": "stderr",
     "output_type": "stream",
     "text": [
      "F:\\workinsofe\\python\\py\\lib\\site-packages\\sklearn\\cross_validation.py:41: DeprecationWarning: This module was deprecated in version 0.18 in favor of the model_selection module into which all the refactored classes and functions are moved. Also note that the interface of the new CV iterators are different from that of this module. This module will be removed in 0.20.\n",
      "  \"This module will be removed in 0.20.\", DeprecationWarning)\n"
     ]
    }
   ],
   "source": [
    "from xgboost import XGBRegressor"
   ]
  },
  {
   "cell_type": "code",
   "execution_count": 78,
   "metadata": {
    "collapsed": true
   },
   "outputs": [],
   "source": [
    "model = XGBRegressor()\n",
    "xgb=model.fit(x_train, y_train)"
   ]
  },
  {
   "cell_type": "code",
   "execution_count": 79,
   "metadata": {},
   "outputs": [
    {
     "data": {
      "text/plain": [
       "0.1330013240950485"
      ]
     },
     "execution_count": 79,
     "metadata": {},
     "output_type": "execute_result"
    }
   ],
   "source": [
    "xgb.score(x_train,y_train)"
   ]
  },
  {
   "cell_type": "code",
   "execution_count": 80,
   "metadata": {
    "collapsed": true
   },
   "outputs": [],
   "source": [
    "preds_xgb=xgb.predict(x_test)"
   ]
  },
  {
   "cell_type": "code",
   "execution_count": 81,
   "metadata": {},
   "outputs": [
    {
     "name": "stdout",
     "output_type": "stream",
     "text": [
      "0.525579103963\n",
      "0.12806682146\n"
     ]
    }
   ],
   "source": [
    "from sklearn.metrics import mean_squared_log_error\n",
    "print(mean_squared_log_error(y_test, xgb.predict(x_test)))\n",
    "print(xgb.score(x_test, y_test))"
   ]
  },
  {
   "cell_type": "code",
   "execution_count": null,
   "metadata": {
    "collapsed": true
   },
   "outputs": [],
   "source": [
    "##########  ANN ######\n",
    "from keras.models import Sequential\n",
    "from keras.layers import Dense\n",
    "from keras import optimizers\n"
   ]
  },
  {
   "cell_type": "code",
   "execution_count": null,
   "metadata": {
    "collapsed": true
   },
   "outputs": [],
   "source": [
    "ann_model=Sequential()\n",
    "ann_model.add(Dense(30,input_dim=6,activation='relu',kernel_initializer='normal'))\n",
    "ann_model.add(Dense(12,input_dim=6,activation='relu',kernel_initializer='normal'))\n",
    "ann_model.add(Dense(1,activation='relu',kernel_initializer='normal'))"
   ]
  },
  {
   "cell_type": "code",
   "execution_count": null,
   "metadata": {
    "collapsed": true
   },
   "outputs": [],
   "source": [
    "ann_model.compile(loss='mean_squared_logarithmic_error',optimizer='sgd',metrics=['msle'])"
   ]
  },
  {
   "cell_type": "code",
   "execution_count": null,
   "metadata": {
    "collapsed": true
   },
   "outputs": [],
   "source": [
    "model_history =ann_model.fit(x_train,y_train,epochs=100,batch_size=1024,validation_split=.2)"
   ]
  },
  {
   "cell_type": "code",
   "execution_count": 64,
   "metadata": {
    "collapsed": true
   },
   "outputs": [],
   "source": [
    "import matplotlib.pyplot as plt\n",
    "import seaborn as sns; sns.set()\n",
    "import pandas as pd"
   ]
  },
  {
   "cell_type": "code",
   "execution_count": 70,
   "metadata": {
    "collapsed": true
   },
   "outputs": [],
   "source": [
    "data = wd_drop\n",
    "X, y_ = data[\"Unnamed: 5\"], data.price"
   ]
  },
  {
   "cell_type": "code",
   "execution_count": 71,
   "metadata": {
    "collapsed": true
   },
   "outputs": [],
   "source": [
    "SR_y = pd.Series(y_, name=\"y_ (Target price)\")\n"
   ]
  },
  {
   "cell_type": "code",
   "execution_count": 87,
   "metadata": {},
   "outputs": [
    {
     "data": {
      "image/png": "[encoded data removed]",
      "text/plain": [
       "<matplotlib.figure.Figure at 0x1e9be815048>"
      ]
     },
     "metadata": {},
     "output_type": "display_data"
    }
   ],
   "source": [
    "fig, ax = plt.subplots()\n",
    "ax.set_xlim( 0,200)\n",
    "sns.distplot(SR_y, color=\"g\", ax=ax)\n",
    "\n",
    "plt.show() "
   ]
  },
  {
   "cell_type": "code",
   "execution_count": null,
   "metadata": {
    "collapsed": true
   },
   "outputs": [],
   "source": [
    "# doing clustering of data\n",
    "#hierarchical or agglomerative clustering\n",
    "\n",
    "# Agglomerative Clustering Model\n",
    "agglomerative = cluster.AgglomerativeClustering(n_clusters=kClusters, linkage=\"ward\")\n",
    "agglomerative.fit(edgeMat)\n",
    "\n",
    "# Transform our data to list form and store them in results list\n",
    "results.append(list(agglomerative.labels_))\n"
   ]
  }
 ],
 "metadata": {
  "kernelspec": {
   "display_name": "Python 3",
   "language": "python",
   "name": "python3"
  },
  "language_info": {
   "codemirror_mode": {
    "name": "ipython",
    "version": 3
   },
   "file_extension": ".py",
   "mimetype": "text/x-python",
   "name": "python",
   "nbconvert_exporter": "python",
   "pygments_lexer": "ipython3",
   "version": "3.6.2"
  }
 },
 "nbformat": 4,
 "nbformat_minor": 2
}
